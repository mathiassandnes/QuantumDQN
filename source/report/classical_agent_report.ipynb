{
 "cells": [
  {
   "cell_type": "code",
   "execution_count": 5,
   "metadata": {
    "collapsed": true
   },
   "outputs": [],
   "source": [
    "from source.report.report_utils import preprocess_results\n",
    "import seaborn as sns\n",
    "import matplotlib.pyplot as plt\n",
    "import pandas as pd\n",
    "\n",
    "# Load the data and hyperparameters\n",
    "episodes, config = preprocess_results('classical_CartPole-v1')"
   ]
  },
  {
   "cell_type": "code",
   "execution_count": 6,
   "outputs": [],
   "source": [
    "episodes = episodes[['trial_id', 'run_id', 'episode', 'training_score', 'evaluation_score',\n",
    "                     'epsilon', 'training_actions', 'evaluation_actions',\n",
    "                     'evaluation_observations', 'evaluation_predictions', 'environment',\n",
    "                     'layers', 'learning_rate', 'neurons', 'number_of_weights']]\n"
   ],
   "metadata": {
    "collapsed": false
   }
  },
  {
   "cell_type": "code",
   "execution_count": 7,
   "outputs": [
    {
     "ename": "IndexError",
     "evalue": "index 0 is out of bounds for axis 0 with size 0",
     "output_type": "error",
     "traceback": [
      "\u001B[1;31m---------------------------------------------------------------------------\u001B[0m",
      "\u001B[1;31mIndexError\u001B[0m                                Traceback (most recent call last)",
      "Cell \u001B[1;32mIn[7], line 14\u001B[0m\n\u001B[0;32m      9\u001B[0m episodes_grouped \u001B[38;5;241m=\u001B[39m episodes\u001B[38;5;241m.\u001B[39mgroupby([\u001B[38;5;124m'\u001B[39m\u001B[38;5;124mtrial_id\u001B[39m\u001B[38;5;124m'\u001B[39m, \u001B[38;5;124m'\u001B[39m\u001B[38;5;124mrun_id\u001B[39m\u001B[38;5;124m'\u001B[39m, \u001B[38;5;124m'\u001B[39m\u001B[38;5;124mlayers\u001B[39m\u001B[38;5;124m'\u001B[39m, \u001B[38;5;124m'\u001B[39m\u001B[38;5;124mlearning_rate\u001B[39m\u001B[38;5;124m'\u001B[39m, \u001B[38;5;124m'\u001B[39m\u001B[38;5;124mneurons\u001B[39m\u001B[38;5;124m'\u001B[39m, \u001B[38;5;124m'\u001B[39m\u001B[38;5;124menvironment\u001B[39m\u001B[38;5;124m'\u001B[39m])\u001B[38;5;241m.\u001B[39magg(\n\u001B[0;32m     10\u001B[0m     {\u001B[38;5;124m'\u001B[39m\u001B[38;5;124mevaluation_score\u001B[39m\u001B[38;5;124m'\u001B[39m: \u001B[38;5;124m'\u001B[39m\u001B[38;5;124mmean\u001B[39m\u001B[38;5;124m'\u001B[39m})\u001B[38;5;241m.\u001B[39mreset_index()\n\u001B[0;32m     12\u001B[0m \u001B[38;5;66;03m# find trial with highest evaluation score\u001B[39;00m\n\u001B[0;32m     13\u001B[0m trial \u001B[38;5;241m=\u001B[39m \\\n\u001B[1;32m---> 14\u001B[0m \u001B[43mepisodes_grouped\u001B[49m\u001B[43m[\u001B[49m\u001B[43mepisodes_grouped\u001B[49m\u001B[43m[\u001B[49m\u001B[38;5;124;43m'\u001B[39;49m\u001B[38;5;124;43mevaluation_score\u001B[39;49m\u001B[38;5;124;43m'\u001B[39;49m\u001B[43m]\u001B[49m\u001B[43m \u001B[49m\u001B[38;5;241;43m==\u001B[39;49m\u001B[43m \u001B[49m\u001B[43mepisodes_grouped\u001B[49m\u001B[43m[\u001B[49m\u001B[38;5;124;43m'\u001B[39;49m\u001B[38;5;124;43mevaluation_score\u001B[39;49m\u001B[38;5;124;43m'\u001B[39;49m\u001B[43m]\u001B[49m\u001B[38;5;241;43m.\u001B[39;49m\u001B[43mmax\u001B[49m\u001B[43m(\u001B[49m\u001B[43m)\u001B[49m\u001B[43m]\u001B[49m\u001B[43m[\u001B[49m\u001B[38;5;124;43m'\u001B[39;49m\u001B[38;5;124;43mtrial_id\u001B[39;49m\u001B[38;5;124;43m'\u001B[39;49m\u001B[43m]\u001B[49m\u001B[38;5;241;43m.\u001B[39;49m\u001B[43mvalues\u001B[49m\u001B[43m[\u001B[49m\n\u001B[0;32m     15\u001B[0m \u001B[43m    \u001B[49m\u001B[38;5;241;43m0\u001B[39;49m\u001B[43m]\u001B[49m\n\u001B[0;32m     17\u001B[0m episodes \u001B[38;5;241m=\u001B[39m episodes[episodes[\u001B[38;5;124m'\u001B[39m\u001B[38;5;124mtrial_id\u001B[39m\u001B[38;5;124m'\u001B[39m] \u001B[38;5;241m==\u001B[39m trial]\u001B[38;5;241m.\u001B[39mgroupby(\n\u001B[0;32m     18\u001B[0m     [\u001B[38;5;124m'\u001B[39m\u001B[38;5;124mepisode\u001B[39m\u001B[38;5;124m'\u001B[39m, \u001B[38;5;124m'\u001B[39m\u001B[38;5;124mlayers\u001B[39m\u001B[38;5;124m'\u001B[39m, \u001B[38;5;124m'\u001B[39m\u001B[38;5;124mlearning_rate\u001B[39m\u001B[38;5;124m'\u001B[39m, \u001B[38;5;124m'\u001B[39m\u001B[38;5;124mneurons\u001B[39m\u001B[38;5;124m'\u001B[39m, \u001B[38;5;124m'\u001B[39m\u001B[38;5;124menvironment\u001B[39m\u001B[38;5;124m'\u001B[39m])\u001B[38;5;241m.\u001B[39magg({\u001B[38;5;124m'\u001B[39m\u001B[38;5;124mevaluation_score\u001B[39m\u001B[38;5;124m'\u001B[39m: \u001B[38;5;124m'\u001B[39m\u001B[38;5;124mmean\u001B[39m\u001B[38;5;124m'\u001B[39m, \u001B[38;5;124m'\u001B[39m\u001B[38;5;124mtraining_score\u001B[39m\u001B[38;5;124m'\u001B[39m: \u001B[38;5;124m'\u001B[39m\u001B[38;5;124mmean\u001B[39m\u001B[38;5;124m'\u001B[39m})\u001B[38;5;241m.\u001B[39mreset_index()\n",
      "\u001B[1;31mIndexError\u001B[0m: index 0 is out of bounds for axis 0 with size 0"
     ]
    }
   ],
   "source": [
    "# select trial based on hyperparameters\n",
    "neurons = 32\n",
    "learning_rate = 0.001\n",
    "layers = 4\n",
    "\n",
    "episodes = episodes[\n",
    "    (episodes['neurons'] == neurons) & (episodes['learning_rate'] == learning_rate) & (episodes['layers'] == layers)]\n",
    "\n",
    "episodes_grouped = episodes.groupby(['trial_id', 'run_id', 'layers', 'learning_rate', 'neurons', 'environment']).agg(\n",
    "    {'evaluation_score': 'mean'}).reset_index()\n",
    "\n",
    "# find trial with highest evaluation score\n",
    "trial = \\\n",
    "episodes_grouped[episodes_grouped['evaluation_score'] == episodes_grouped['evaluation_score'].max()]['trial_id'].values[\n",
    "    0]\n",
    "\n",
    "episodes = episodes[episodes['trial_id'] == trial].groupby(\n",
    "    ['episode', 'layers', 'learning_rate', 'neurons', 'environment']).agg({'evaluation_score': 'mean', 'training_score': 'mean'}).reset_index()"
   ],
   "metadata": {
    "collapsed": false
   }
  },
  {
   "cell_type": "code",
   "execution_count": null,
   "outputs": [],
   "source": [
    "import numpy as np\n",
    "import matplotlib.pyplot as plt\n",
    "import seaborn as sns\n",
    "\n",
    "# Group episodes by hyperparameters and episode\n",
    "grouped_episodes = episodes.groupby(['layers', 'learning_rate', 'neurons', 'environment', 'episode']).agg(\n",
    "    {'evaluation_score': 'mean'}).reset_index()\n",
    "\n",
    "# Calculate standard deviation of evaluation scores for each hyperparameter configuration\n",
    "std_dev = grouped_episodes.groupby(['layers', 'learning_rate', 'neurons', 'environment'])['evaluation_score'].std()\n",
    "\n",
    "# Create plot\n",
    "fig, ax = plt.subplots(figsize=(12, 8))\n",
    "\n",
    "# Iterate over each hyperparameter configuration\n",
    "for i, (hyperparameters, group) in enumerate(\n",
    "        grouped_episodes.groupby(['layers', 'learning_rate', 'neurons', 'environment'])):\n",
    "    # Plot the evaluation score over episodes for the current configuration\n",
    "    sns.lineplot(x='episode', y='evaluation_score', data=group, ax=ax, label=f'{hyperparameters}', ci=None)\n",
    "\n",
    "    # Calculate the upper and lower bounds of the confidence interval based on the standard deviation\n",
    "    upper_bound = group['evaluation_score'] + std_dev[hyperparameters]\n",
    "    lower_bound = group['evaluation_score'] - std_dev[hyperparameters]\n",
    "\n",
    "    # Plot the confidence interval as a shaded region around the line plot\n",
    "    ax.fill_between(group['episode'], lower_bound, upper_bound, alpha=0.1)\n",
    "\n",
    "ax.set_xlabel('Episode')\n",
    "ax.set_ylabel('Evaluation Score')\n",
    "ax.set_ylim(0, 100)\n",
    "ax.set_title('Performance Stability')\n",
    "ax.legend(title='Hyperparameters')\n",
    "\n",
    "plt.show()\n"
   ],
   "metadata": {
    "collapsed": false
   }
  },
  {
   "cell_type": "code",
   "execution_count": null,
   "outputs": [],
   "source": [
    "import matplotlib.pyplot as plt\n",
    "import seaborn as sns\n",
    "\n",
    "# Assuming the data is stored in a DataFrame called `episodes`\n",
    "# with columns `episode`, `training_score`, and `evaluation_score`\n",
    "\n",
    "# Calculate the cumulative sum of rewards per episode\n",
    "episodes['cumulative_training_score'] = episodes.groupby('episode')['training_score'].cumsum()\n",
    "episodes['cumulative_evaluation_score'] = episodes.groupby('episode')['evaluation_score'].cumsum()\n",
    "\n",
    "# Create the plot\n",
    "fig, ax = plt.subplots(figsize=(10, 6))\n",
    "\n",
    "sns.lineplot(data=episodes, x='episode', y='cumulative_training_score', label='Training Score', ax=ax)\n",
    "sns.lineplot(data=episodes, x='episode', y='cumulative_evaluation_score', label='Evaluation Score', ax=ax)\n",
    "\n",
    "ax.set_xlabel('Episode')\n",
    "ax.set_ylabel('Cumulative Reward')\n",
    "ax.set_title('Episode Reward Progression')\n",
    "\n",
    "plt.show()\n"
   ],
   "metadata": {
    "collapsed": false
   }
  }
 ],
 "metadata": {
  "kernelspec": {
   "display_name": "Python 3",
   "language": "python",
   "name": "python3"
  },
  "language_info": {
   "codemirror_mode": {
    "name": "ipython",
    "version": 2
   },
   "file_extension": ".py",
   "mimetype": "text/x-python",
   "name": "python",
   "nbconvert_exporter": "python",
   "pygments_lexer": "ipython2",
   "version": "2.7.6"
  }
 },
 "nbformat": 4,
 "nbformat_minor": 0
}
